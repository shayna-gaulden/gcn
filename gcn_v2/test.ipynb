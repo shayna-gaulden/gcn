{
 "cells": [
  {
   "cell_type": "markdown",
   "metadata": {},
   "source": [
    "```\n",
    "print(\"Size of adjacency matrix = \" + str(adj.shape))\n",
    "print(\"Size of feature matrix = \" + str(features.shape))     # expected to be sparse\n",
    "print(\"Size of label matrix = \" + str(train_mask.shape))\n",
    "print(y_train.shape)\n",
    "print(y_val.shape)\n",
    "print(y_test.shape)\n",
    "print(train_mask.shape)\n",
    "print(val_mask.shape)\n",
    "```\n",
    "produces these results:\n",
    "```\n",
    "Size of adjacency matrix = (2708, 2708)\n",
    "Size of feature matrix = (2708, 1433)\n",
    "Size of label matrix = (2708,)\n",
    "(2708, 7)\n",
    "(2708, 7)\n",
    "(2708, 7)\n",
    "(2708,)\n",
    "(2708,)\n",
    "```\n",
    "\n",
    "A mask is used which is why they are all the same size"
   ]
  },
  {
   "cell_type": "code",
   "execution_count": 16,
   "metadata": {},
   "outputs": [
    {
     "name": "stdout",
     "output_type": "stream",
     "text": [
      "tf.Tensor([False  True False False  True], shape=(5,), dtype=bool)\n",
      "tf.Tensor([False  True  True False  True], shape=(5,), dtype=bool)\n",
      "tf.Tensor([False  True False False  True], shape=(5,), dtype=bool)\n",
      "tf.Tensor(2.0, shape=(), dtype=float32)\n",
      "tf.Tensor(0.4, shape=(), dtype=float32)\n"
     ]
    }
   ],
   "source": [
    "#### Short demonstation of how Hamming loss will be calculated\n",
    "import tensorflow as tf\n",
    "\n",
    "thresh = tf.constant(0.5)                                   # define a threshold\n",
    "sample_output = tf.constant([0.32,0.68,0.43,0.5,0.98])      # sample logit output\n",
    "preds = tf.math.greater(sample_output, thresh, name=None)   # prediciton based on output and threshold\n",
    "print(preds)\n",
    "\n",
    "labels = tf.constant([0, 1, 1, 0, 1])                       # define samplel labels\n",
    "bool_labels = tf.equal(labels,tf.constant(1))               # transform to bool\n",
    "print(bool_labels)\n",
    "matching = tf.math.logical_and(bool_labels, preds)          # logical and used to get intersection\n",
    "print(matching)\n",
    "intersect_size = tf.reduce_sum(tf.cast(matching, tf.float32)) # count how many true in intersection of label\n",
    "print(intersect_size)\n",
    "num_labels = tf.size(labels)                                    # find numbe rof labels\n",
    "\n",
    "ham_loss = tf.divide(intersect_size, tf.cast(num_labels, tf.float32))\n",
    "print(ham_loss)"
   ]
  },
  {
   "cell_type": "code",
   "execution_count": 26,
   "metadata": {},
   "outputs": [
    {
     "name": "stdout",
     "output_type": "stream",
     "text": [
      "tf.Tensor(\n",
      "[[False  True  True  True False]\n",
      " [False False False  True  True]\n",
      " [ True False  True False False]], shape=(3, 5), dtype=bool)\n",
      "tf.Tensor(\n",
      "[[False  True  True False  True]\n",
      " [False False False False  True]\n",
      " [ True False  True False False]], shape=(3, 5), dtype=bool)\n",
      "tf.Tensor(\n",
      "[[False  True  True False False]\n",
      " [False False False False  True]\n",
      " [ True False  True False False]], shape=(3, 5), dtype=bool)\n",
      "tf.Tensor([2. 1. 2.], shape=(3,), dtype=float32)\n",
      "tf.Tensor(5, shape=(), dtype=int32)\n",
      "tf.Tensor([0.4 0.2 0.4], shape=(3,), dtype=float32)\n",
      "tf.Tensor(15, shape=(), dtype=int32)\n"
     ]
    }
   ],
   "source": [
    "# Short demonstation of how Hamming loss will be calculated for multiple vectors\n",
    "import tensorflow as tf\n",
    "\n",
    "# define a threshold\n",
    "thresh = tf.constant(0.5)\n",
    "sample_output = tf.constant([[0.23, 0.98, 0.78, 0.52, 0.48], [0.1, 0.2, 0.3, 0.6, 0.9], [\n",
    "                     0.9, 0.1, 0.99, 0.0, 0.03]])      # sample logit output\n",
    "# prediciton based on output and threshold\n",
    "preds = tf.math.greater(sample_output, thresh, name=None)\n",
    "print(preds)\n",
    "\n",
    "# define samplel labels\n",
    "labels = tf.constant([[0, 1, 1, 0, 1], [0, 0, 0, 0, 1], [1, 0, 1, 0, 0]])\n",
    "bool_labels = tf.equal(labels, tf.constant(\n",
    "    1))               # transform to bool\n",
    "print(bool_labels)\n",
    "# logical and used to get intersection\n",
    "matching = tf.math.logical_and(bool_labels, preds)\n",
    "print(matching)\n",
    "# count how many true in intersection of label\n",
    "intersect_size = tf.reduce_sum(tf.cast(matching, tf.float32),axis=1)\n",
    "print(intersect_size)\n",
    "# find numbe rof labels\n",
    "num_labels = tf.constant(labels.get_shape()[1])\n",
    "print(num_labels)\n",
    "ham_loss_all = tf.divide(intersect_size, tf.cast(num_labels, tf.float32))\n",
    "print(ham_loss_all)\n",
    "print(tf.size(labels))\n"
   ]
  },
  {
   "cell_type": "code",
   "execution_count": 24,
   "metadata": {},
   "outputs": [
    {
     "data": {
      "text/plain": [
       "5"
      ]
     },
     "execution_count": 24,
     "metadata": {},
     "output_type": "execute_result"
    }
   ],
   "source": []
  },
  {
   "cell_type": "code",
   "execution_count": null,
   "metadata": {},
   "outputs": [],
   "source": []
  }
 ],
 "metadata": {
  "interpreter": {
   "hash": "3fa3b7cf96bac197797867e8b125ebe015f55caaa4d9e9c2464cd065023f3387"
  },
  "kernelspec": {
   "display_name": "Python 3.9.13 ('python3_env')",
   "language": "python",
   "name": "python3"
  },
  "language_info": {
   "codemirror_mode": {
    "name": "ipython",
    "version": 3
   },
   "file_extension": ".py",
   "mimetype": "text/x-python",
   "name": "python",
   "nbconvert_exporter": "python",
   "pygments_lexer": "ipython3",
   "version": "3.9.13"
  },
  "orig_nbformat": 4
 },
 "nbformat": 4,
 "nbformat_minor": 2
}
