{
 "cells": [
  {
   "cell_type": "markdown",
   "metadata": {},
   "source": [
    "```\n",
    "print(\"Size of adjacency matrix = \" + str(adj.shape))\n",
    "print(\"Size of feature matrix = \" + str(features.shape))     # expected to be sparse\n",
    "print(\"Size of label matrix = \" + str(train_mask.shape))\n",
    "print(y_train.shape)\n",
    "print(y_val.shape)\n",
    "print(y_test.shape)\n",
    "print(train_mask.shape)\n",
    "print(val_mask.shape)\n",
    "```\n",
    "produces these results:\n",
    "```\n",
    "Size of adjacency matrix = (2708, 2708)\n",
    "Size of feature matrix = (2708, 1433)\n",
    "Size of label matrix = (2708,)\n",
    "(2708, 7)\n",
    "(2708, 7)\n",
    "(2708, 7)\n",
    "(2708,)\n",
    "(2708,)\n",
    "```\n",
    "\n",
    "A mask is used which is why they are all the same size"
   ]
  },
  {
   "cell_type": "code",
   "execution_count": null,
   "metadata": {},
   "outputs": [],
   "source": [
    "import numpy as np\n",
    "\n",
    "\n",
    "\n",
    "def sample_mask(idx, l):\n",
    "    \"\"\"Create mask.\"\"\"\n",
    "    mask = np.zeros(l)\n",
    "    mask[idx] = 1\n",
    "    return np.array(mask, dtype=bool)"
   ]
  }
 ],
 "metadata": {
  "language_info": {
   "name": "python"
  },
  "orig_nbformat": 4
 },
 "nbformat": 4,
 "nbformat_minor": 2
}
